{
 "cells": [
  {
   "cell_type": "code",
   "execution_count": 12,
   "id": "e906ab27",
   "metadata": {},
   "outputs": [],
   "source": [
    "import numpy as np\n",
    "import matplotlib.pyplot as plt"
   ]
  },
  {
   "cell_type": "code",
   "execution_count": 13,
   "id": "92f45c0e",
   "metadata": {},
   "outputs": [],
   "source": [
    "from sklearn.datasets import make_regression"
   ]
  },
  {
   "cell_type": "code",
   "execution_count": 14,
   "id": "0c83adc8",
   "metadata": {},
   "outputs": [],
   "source": [
    "X, y = make_regression(n_samples=10000, n_features=20,n_informative=20, noise=10, random_state=1)"
   ]
  },
  {
   "cell_type": "code",
   "execution_count": 15,
   "id": "f47db127",
   "metadata": {},
   "outputs": [],
   "source": [
    "# Normalisation\n",
    "\n",
    "u = np.mean(X, axis=0)\n",
    "sd = np.std(X, axis=0)\n",
    "\n",
    "X = (X-u)/sd\n",
    "\n",
    "# Stacking matrix of ones [m rows and 1 colmn] to the features\n",
    "m = X.shape[0]\n",
    "ones = np.ones((m, 1 ))\n",
    "X = np.hstack((ones, X))\n"
   ]
  },
  {
   "cell_type": "code",
   "execution_count": 16,
   "id": "26afd7c6",
   "metadata": {},
   "outputs": [
    {
     "name": "stdout",
     "output_type": "stream",
     "text": [
      "(10000, 21) (10000,)\n"
     ]
    }
   ],
   "source": [
    "print(X.shape, y.shape)"
   ]
  },
  {
   "cell_type": "code",
   "execution_count": 17,
   "id": "c60811db",
   "metadata": {},
   "outputs": [],
   "source": [
    "def hypothesis(X, theta):\n",
    "    return np.dot(X, theta)\n",
    "\n",
    "def error(X, y, theta):\n",
    "    y_ = hypothesis(X, theta)\n",
    "    \n",
    "    error = 0\n",
    "    \n",
    "    error = np.sum((y_ - y)**2)\n",
    "    return error/X.shape[0]\n",
    "\n",
    "def gradient(X, y, theta):\n",
    "    y_ = hypothesis(X, theta)\n",
    "    \n",
    "    m, n = X.shape\n",
    "    \n",
    "    grad = np.dot(X.T, (y_ - y))\n",
    "    return grad/m\n",
    "\n",
    "def grad_desc(X, y, lr=0.01, max_itr=300):\n",
    "    n = X.shape[1]\n",
    "    theta = np.zeros((n,))\n",
    "    error_list = []\n",
    "    \n",
    "    for i in range(max_itr):\n",
    "        grad = gradient(X, y, theta)\n",
    "        \n",
    "        e = error(X,y, theta)\n",
    "        error_list.append(e)\n",
    "        \n",
    "        theta = theta - lr*grad\n",
    "    return theta, error_list"
   ]
  },
  {
   "cell_type": "code",
   "execution_count": 18,
   "id": "d98b5157",
   "metadata": {},
   "outputs": [],
   "source": [
    "theta, errList = grad_desc(X, y)"
   ]
  },
  {
   "cell_type": "code",
   "execution_count": 19,
   "id": "3b24689c",
   "metadata": {},
   "outputs": [
    {
     "name": "stdout",
     "output_type": "stream",
     "text": [
      "[ 5.49305418 36.82846111 51.52236018 56.2807233  26.67438969 91.78786703\n",
      " 59.62028399 77.73487416 80.94869413 69.56159072 91.73767815  3.44885117\n",
      " 11.3968895   5.86674661 14.81493929 42.5091566  49.06453787 74.05908189\n",
      " 29.27976957 28.49691209 50.57414751]\n"
     ]
    }
   ],
   "source": [
    "print(theta)"
   ]
  },
  {
   "cell_type": "code",
   "execution_count": 22,
   "id": "33ebb881",
   "metadata": {},
   "outputs": [
    {
     "data": {
      "image/png": "[encoded data removed]",
      "text/plain": [
       "<Figure size 432x288 with 1 Axes>"
      ]
     },
     "metadata": {
      "needs_background": "light"
     },
     "output_type": "display_data"
    }
   ],
   "source": [
    "plt.plot(errList)\n",
    "plt.show()"
   ]
  },
  {
   "cell_type": "code",
   "execution_count": 23,
   "id": "cb21a9e2",
   "metadata": {},
   "outputs": [],
   "source": [
    "#Above courve shows the convergence of error by using normal grad desc "
   ]
  },
  {
   "cell_type": "code",
   "execution_count": 24,
   "id": "343de013",
   "metadata": {},
   "outputs": [
    {
     "data": {
      "text/plain": [
       "300"
      ]
     },
     "execution_count": 24,
     "metadata": {},
     "output_type": "execute_result"
    }
   ],
   "source": [
    "len(errList)"
   ]
  },
  {
   "cell_type": "code",
   "execution_count": 26,
   "id": "5a8393e4",
   "metadata": {},
   "outputs": [
    {
     "data": {
      "image/png": "[encoded data removed]",
      "text/plain": [
       "<Figure size 432x288 with 1 Axes>"
      ]
     },
     "metadata": {
      "needs_background": "light"
     },
     "output_type": "display_data"
    }
   ],
   "source": [
    "plt.plot(np.arange(300), errList)\n",
    "plt.show()"
   ]
  },
  {
   "cell_type": "markdown",
   "id": "dd99aa84",
   "metadata": {},
   "source": [
    "# Mini Batch Grad Desc"
   ]
  },
  {
   "cell_type": "code",
   "execution_count": 51,
   "id": "b4a275d0",
   "metadata": {},
   "outputs": [],
   "source": [
    "def miniBatchGD(X, y, lr=0.01, max_itr=100, batch_size = 200):\n",
    "    n = X.shape[1]\n",
    "    theta = np.zeros((n,))\n",
    "    error_list = []\n",
    "    \n",
    "    data = np.hstack((X, y.reshape(-1,1)))\n",
    "    \n",
    "    for i in range(max_itr):\n",
    "        np.random.shuffle(data)\n",
    "        \n",
    "        no_of_batches = X.shape[0]//batch_size  # Taking floor value of i as 'float' object cannot be interpreted as an integer\n",
    "        \n",
    "        for i in range(no_of_batches):\n",
    "            batch = data[i*batch_size:(i+1)*batch_size,:]\n",
    "            \n",
    "            X_ = data[:, :-1]\n",
    "            Y_ = data[:, -1]\n",
    "            \n",
    "            grad = gradient(X_, Y_, theta)\n",
    "            theta = theta - lr*grad\n",
    "            \n",
    "            err = error(X_, Y_, theta)\n",
    "            error_list.append(err)\n",
    "            \n",
    "    return theta, error_list\n",
    "         \n",
    "         \n",
    "        \n",
    "            \n",
    "    "
   ]
  },
  {
   "cell_type": "code",
   "execution_count": 52,
   "id": "97f28cb2",
   "metadata": {},
   "outputs": [],
   "source": [
    "theta2, err_lis2 = miniBatchGD(X, y)"
   ]
  },
  {
   "cell_type": "code",
   "execution_count": 47,
   "id": "75da2e39",
   "metadata": {},
   "outputs": [
    {
     "data": {
      "text/plain": [
       "array([ 5.73837731, 38.53642664, 53.546359  , 58.73220599, 28.06595742,\n",
       "       96.25572271, 62.06519261, 81.19499177, 84.11414433, 72.62625285,\n",
       "       95.93692139,  3.26959916, 12.3272267 ,  5.85846661, 15.08682565,\n",
       "       44.63929838, 51.3043602 , 77.69725681, 30.42469833, 29.17976572,\n",
       "       52.61860953])"
      ]
     },
     "execution_count": 47,
     "metadata": {},
     "output_type": "execute_result"
    }
   ],
   "source": [
    "theta2"
   ]
  },
  {
   "cell_type": "code",
   "execution_count": 48,
   "id": "7efde968",
   "metadata": {},
   "outputs": [
    {
     "data": {
      "text/plain": [
       "500"
      ]
     },
     "execution_count": 48,
     "metadata": {},
     "output_type": "execute_result"
    }
   ],
   "source": [
    "len(err_lis2)  "
   ]
  },
  {
   "cell_type": "code",
   "execution_count": 53,
   "id": "0e7cd023",
   "metadata": {},
   "outputs": [
    {
     "data": {
      "image/png": "[encoded data removed]",
      "text/plain": [
       "<Figure size 432x288 with 1 Axes>"
      ]
     },
     "metadata": {
      "needs_background": "light"
     },
     "output_type": "display_data"
    }
   ],
   "source": [
    "plt.plot(np.arange(5000), err_lis2)\n",
    "plt.show()"
   ]
  },
  {
   "cell_type": "code",
   "execution_count": 42,
   "id": "730bd332",
   "metadata": {},
   "outputs": [],
   "source": [
    "# Hence from above graph it is clear that convergence is much faster"
   ]
  },
  {
   "cell_type": "code",
   "execution_count": 54,
   "id": "5accbb5c",
   "metadata": {},
   "outputs": [
    {
     "name": "stdout",
     "output_type": "stream",
     "text": [
      "101.45971438617669\n"
     ]
    }
   ],
   "source": [
    "final_error = err_lis2[-1]\n",
    "print(final_error)"
   ]
  },
  {
   "cell_type": "code",
   "execution_count": null,
   "id": "0773bc2e",
   "metadata": {},
   "outputs": [],
   "source": []
  }
 ],
 "metadata": {
  "kernelspec": {
   "display_name": "Python 3 (ipykernel)",
   "language": "python",
   "name": "python3"
  },
  "language_info": {
   "codemirror_mode": {
    "name": "ipython",
    "version": 3
   },
   "file_extension": ".py",
   "mimetype": "text/x-python",
   "name": "python",
   "nbconvert_exporter": "python",
   "pygments_lexer": "ipython3",
   "version": "3.9.2"
  }
 },
 "nbformat": 4,
 "nbformat_minor": 5
}
