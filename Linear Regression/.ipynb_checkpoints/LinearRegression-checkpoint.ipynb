{
 "cells": [
  {
   "cell_type": "code",
   "execution_count": 1,
   "id": "38c13e17",
   "metadata": {},
   "outputs": [],
   "source": [
    "import numpy as np\n",
    "import matplotlib.pyplot as plt\n",
    "import pandas as pd"
   ]
  },
  {
   "cell_type": "code",
   "execution_count": 2,
   "id": "2b016ae6",
   "metadata": {},
   "outputs": [],
   "source": [
    "X = pd.read_csv(\"./hardworkpays/Linear_X_Train.csv\")\n",
    "Y = pd.read_csv(\"./hardworkpays/Linear_Y_Train.csv\")"
   ]
  },
  {
   "cell_type": "code",
   "execution_count": 26,
   "id": "06e6339f",
   "metadata": {},
   "outputs": [],
   "source": [
    "X = X.values\n",
    "Y = Y.values"
   ]
  },
  {
   "cell_type": "code",
   "execution_count": 36,
   "id": "b4f6a16c",
   "metadata": {},
   "outputs": [],
   "source": [
    "def hypothesis(x, theta):\n",
    "    y_ = theta[0]+theta[1]*x;\n",
    "    return y_\n",
    "\n",
    "def error(X, Y, theta):\n",
    "    total_error = 0\n",
    "    \n",
    "    for i in range(X.shape[0]):\n",
    "        y_ = hypothesis(X[i], theta)\n",
    "        error = (y_- Y[i])**2\n",
    "        total_error += error\n",
    "    \n",
    "    return (total_error/X.shape[0])\n",
    "\n",
    "def gradient(X, Y, theta):\n",
    "    m = X.shape[0]\n",
    "    grad = np.zeros((2,))\n",
    "    \n",
    "    for i in range(m):\n",
    "        y_ = hypothesis(X[i], theta)\n",
    "        grad[0] += y_ - Y[i]\n",
    "        grad[1] += (y_ - Y[i])*X[i]\n",
    "        \n",
    "    return (grad/m)\n",
    "\n",
    "def gradDescent(X, Y, lr = 0.1, max_steps = 100): \n",
    "    theta = np.zeros((2,))\n",
    "    err_list = []\n",
    "    \n",
    "    for i in range(max_steps):\n",
    "        grad = gradient(X,Y, theta)\n",
    "        err = error(X,Y,theta)\n",
    "        \n",
    "        theta[0] = theta[0] - lr*grad[0]\n",
    "        theta[1] = theta[1] - lr*grad[1]\n",
    "        err_list.append(err)\n",
    "        \n",
    "    return theta, err_list\n",
    "        "
   ]
  },
  {
   "cell_type": "code",
   "execution_count": 37,
   "id": "36197274",
   "metadata": {},
   "outputs": [],
   "source": [
    "theta, ERR = gradDescent(X, Y)"
   ]
  },
  {
   "cell_type": "code",
   "execution_count": 39,
   "id": "24f4bcfc",
   "metadata": {},
   "outputs": [
    {
     "data": {
      "text/plain": [
       "[array([6576.35005246]),\n",
       " array([5382.10116306]),\n",
       " array([4411.49946152]),\n",
       " array([3622.60756627]),\n",
       " array([2981.36244807]),\n",
       " array([2460.09492819]),\n",
       " array([2036.32790862]),\n",
       " array([1691.80078718]),\n",
       " array([1411.67742971]),\n",
       " array([1183.90311642]),\n",
       " array([998.68240386]),\n",
       " array([848.05513558]),\n",
       " array([725.55212733]),\n",
       " array([625.91553452]),\n",
       " array([544.87173451]),\n",
       " array([478.94684832]),\n",
       " array([425.31688589]),\n",
       " array([381.68600791]),\n",
       " array([346.18762175]),\n",
       " array([317.30402305]),\n",
       " array([293.8011006]),\n",
       " array([274.67527734]),\n",
       " array([259.1103913]),\n",
       " array([246.44265199]),\n",
       " array([236.13215782]),\n",
       " array([227.7397446]),\n",
       " array([220.90816592]),\n",
       " array([215.34679392]),\n",
       " array([210.819181]),\n",
       " array([207.13294679]),\n",
       " array([204.13155518]),\n",
       " array([201.6876277]),\n",
       " array([199.69750573]),\n",
       " array([198.07682823]),\n",
       " array([196.75693483]),\n",
       " array([195.6819403]),\n",
       " array([194.80635471]),\n",
       " array([194.09314753]),\n",
       " array([193.51217265]),\n",
       " array([193.03888696]),\n",
       " array([192.65330781]),\n",
       " array([192.33916462]),\n",
       " array([192.08320849]),\n",
       " array([191.87465045]),\n",
       " array([191.70470416]),\n",
       " array([191.56621378]),\n",
       " array([191.45335109]),\n",
       " array([191.36136885]),\n",
       " array([191.28640014]),\n",
       " array([191.2252949]),\n",
       " array([191.17548693]),\n",
       " array([191.1348855]),\n",
       " array([191.10178723]),\n",
       " array([191.07480419]),\n",
       " array([191.05280545]),\n",
       " array([191.03486945]),\n",
       " array([191.02024517]),\n",
       " array([191.00832058]),\n",
       " array([190.99859683]),\n",
       " array([190.99066737]),\n",
       " array([190.9842008]),\n",
       " array([190.97892701]),\n",
       " array([190.97462577]),\n",
       " array([190.97111759]),\n",
       " array([190.96825611]),\n",
       " array([190.96592203]),\n",
       " array([190.96401804]),\n",
       " array([190.96246484]),\n",
       " array([190.96119774]),\n",
       " array([190.960164]),\n",
       " array([190.95932061]),\n",
       " array([190.95863249]),\n",
       " array([190.95807102]),\n",
       " array([190.95761289]),\n",
       " array([190.95723905]),\n",
       " array([190.95693399]),\n",
       " array([190.95668504]),\n",
       " array([190.95648188]),\n",
       " array([190.95631607]),\n",
       " array([190.95618074]),\n",
       " array([190.95607029]),\n",
       " array([190.95598014]),\n",
       " array([190.95590656]),\n",
       " array([190.95584649]),\n",
       " array([190.95579746]),\n",
       " array([190.95575744]),\n",
       " array([190.95572476]),\n",
       " array([190.95569809]),\n",
       " array([190.95567631]),\n",
       " array([190.95565853]),\n",
       " array([190.95564401]),\n",
       " array([190.95563216]),\n",
       " array([190.95562248]),\n",
       " array([190.95561458]),\n",
       " array([190.95560812]),\n",
       " array([190.95560285]),\n",
       " array([190.95559855]),\n",
       " array([190.95559504]),\n",
       " array([190.95559217]),\n",
       " array([190.95558982])]"
      ]
     },
     "execution_count": 39,
     "metadata": {},
     "output_type": "execute_result"
    }
   ],
   "source": [
    "ERR"
   ]
  },
  {
   "cell_type": "code",
   "execution_count": 58,
   "id": "8b7af1b3",
   "metadata": {},
   "outputs": [
    {
     "data": {
      "text/plain": [
       "[<matplotlib.lines.Line2D at 0x1e16bc00a00>]"
      ]
     },
     "execution_count": 58,
     "metadata": {},
     "output_type": "execute_result"
    },
    {
     "data": {
      "image/png": "[encoded data removed]",
      "text/plain": [
       "<Figure size 432x288 with 1 Axes>"
      ]
     },
     "metadata": {
      "needs_background": "light"
     },
     "output_type": "display_data"
    }
   ],
   "source": [
    "plt.plot(ERR)"
   ]
  },
  {
   "cell_type": "markdown",
   "id": "2261f123",
   "metadata": {},
   "source": [
    "###### Error firstly start decreasing and after some point it further cant be reduced. at that pt we get our required valus of theta[0]  & theta[1]"
   ]
  },
  {
   "cell_type": "markdown",
   "id": "49c0688a",
   "metadata": {},
   "source": [
    "# Predictions"
   ]
  },
  {
   "cell_type": "code",
   "execution_count": 41,
   "id": "261e5523",
   "metadata": {},
   "outputs": [
    {
     "data": {
      "text/plain": [
       "<function matplotlib.pyplot.show(close=None, block=None)>"
      ]
     },
     "execution_count": 41,
     "metadata": {},
     "output_type": "execute_result"
    },
    {
     "data": {
      "image/png": "[encoded data removed]",
      "text/plain": [
       "<Figure size 432x288 with 1 Axes>"
      ]
     },
     "metadata": {
      "needs_background": "light"
     },
     "output_type": "display_data"
    }
   ],
   "source": [
    "plt.scatter(X, Y)   # training data \n",
    "plt.show"
   ]
  },
  {
   "cell_type": "code",
   "execution_count": 42,
   "id": "389d4a88",
   "metadata": {},
   "outputs": [],
   "source": [
    "## Now we plot predicted values for testing data as we have our **required theta**"
   ]
  },
  {
   "cell_type": "code",
   "execution_count": 49,
   "id": "acc4f9b8",
   "metadata": {},
   "outputs": [],
   "source": [
    "y_ = hypothesis(X, theta)  # theta we calcluated above and X is a numpy array hence y_ would also be a numpy array of predicted values\n",
    "                            # which will gilve us most suitable line\n"
   ]
  },
  {
   "cell_type": "code",
   "execution_count": 60,
   "id": "72231539",
   "metadata": {},
   "outputs": [
    {
     "data": {
      "image/png": "[encoded data removed]",
      "text/plain": [
       "<Figure size 432x288 with 1 Axes>"
      ]
     },
     "metadata": {
      "needs_background": "light"
     },
     "output_type": "display_data"
    }
   ],
   "source": [
    "plt.scatter(X, Y)    #training data\n",
    "plt.plot(X, y_, color='Red', label=\"Predictions\")   #predicted data / testing data\n",
    "plt.legend()\n",
    "plt.xlabel(\"Hardwork\")\n",
    "plt.ylabel(\"Performance\")\n",
    "plt.show()"
   ]
  },
  {
   "cell_type": "code",
   "execution_count": 61,
   "id": "1e3a3b20",
   "metadata": {},
   "outputs": [],
   "source": [
    "X_test = pd.read_csv(\"./hardworkpays/Linear_X_Test.csv\")"
   ]
  },
  {
   "cell_type": "code",
   "execution_count": 63,
   "id": "08be7d47",
   "metadata": {},
   "outputs": [
    {
     "data": {
      "text/plain": [
       "(1250, 1)"
      ]
     },
     "execution_count": 63,
     "metadata": {},
     "output_type": "execute_result"
    }
   ],
   "source": [
    "X_test.shape"
   ]
  },
  {
   "cell_type": "code",
   "execution_count": 64,
   "id": "7f046bcc",
   "metadata": {},
   "outputs": [],
   "source": [
    "X_test = X_test.values\n",
    "Y_test = hypothesis(X_test, theta)"
   ]
  },
  {
   "cell_type": "code",
   "execution_count": 65,
   "id": "0ffa26cd",
   "metadata": {},
   "outputs": [
    {
     "data": {
      "text/plain": [
       "(1250, 1)"
      ]
     },
     "execution_count": 65,
     "metadata": {},
     "output_type": "execute_result"
    }
   ],
   "source": [
    "Y_test.shape"
   ]
  },
  {
   "cell_type": "code",
   "execution_count": 66,
   "id": "08e6e43d",
   "metadata": {},
   "outputs": [
    {
     "data": {
      "text/plain": [
       "array([[-147.52439132],\n",
       "       [ -66.26570453],\n",
       "       [-200.05620583],\n",
       "       ...,\n",
       "       [  14.03673979],\n",
       "       [ -18.66650943],\n",
       "       [ -51.07517461]])"
      ]
     },
     "execution_count": 66,
     "metadata": {},
     "output_type": "execute_result"
    }
   ],
   "source": [
    "Y_test"
   ]
  },
  {
   "cell_type": "code",
   "execution_count": 67,
   "id": "651d378d",
   "metadata": {},
   "outputs": [],
   "source": [
    "df = pd.DataFrame(data = Y_test, columns = [\"y\"])"
   ]
  },
  {
   "cell_type": "code",
   "execution_count": 69,
   "id": "99a3c167",
   "metadata": {},
   "outputs": [],
   "source": [
    "df.to_csv('./hardworkpays/ans_hardworkpays.csv', index=False)"
   ]
  },
  {
   "cell_type": "code",
   "execution_count": null,
   "id": "52afc66c",
   "metadata": {},
   "outputs": [],
   "source": []
  }
 ],
 "metadata": {
  "kernelspec": {
   "display_name": "Python 3 (ipykernel)",
   "language": "python",
   "name": "python3"
  },
  "language_info": {
   "codemirror_mode": {
    "name": "ipython",
    "version": 3
   },
   "file_extension": ".py",
   "mimetype": "text/x-python",
   "name": "python",
   "nbconvert_exporter": "python",
   "pygments_lexer": "ipython3",
   "version": "3.9.2"
  }
 },
 "nbformat": 4,
 "nbformat_minor": 5
}
