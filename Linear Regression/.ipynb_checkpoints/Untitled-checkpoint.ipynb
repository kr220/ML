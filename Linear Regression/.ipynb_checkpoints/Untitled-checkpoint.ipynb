{
 "cells": [
  {
   "cell_type": "code",
   "execution_count": 1,
   "id": "16f2450a",
   "metadata": {},
   "outputs": [],
   "source": [
    "import numpy as np\n",
    "import matplotlib.pyplot as plt"
   ]
  },
  {
   "cell_type": "code",
   "execution_count": 2,
   "id": "e59ea40d",
   "metadata": {},
   "outputs": [],
   "source": [
    "from sklearn.datasets import make_regression"
   ]
  },
  {
   "cell_type": "code",
   "execution_count": 16,
   "id": "ade0e24f",
   "metadata": {},
   "outputs": [],
   "source": [
    "X, y = make_regression(n_samples=10000, n_features=20,n_informative=20, noise=10, random_state=1)"
   ]
  },
  {
   "cell_type": "code",
   "execution_count": 17,
   "id": "bfb27ca3",
   "metadata": {},
   "outputs": [],
   "source": [
    "# Normalisation\n",
    "\n",
    "u = np.mean(X, axis=0)\n",
    "sd = np.std(X, axis=0)\n",
    "\n",
    "X = (X-u)/sd"
   ]
  },
  {
   "cell_type": "code",
   "execution_count": 18,
   "id": "aa827aa2",
   "metadata": {},
   "outputs": [],
   "source": [
    "# Stacking matrix of ones [m rows and 1 colmn] to the features\n",
    "m = X.shape[0]\n",
    "ones = np.ones((m, 1 ))\n",
    "X = np.hstack((ones, X))\n"
   ]
  },
  {
   "cell_type": "code",
   "execution_count": 19,
   "id": "30102296",
   "metadata": {},
   "outputs": [
    {
     "data": {
      "text/plain": [
       "(10000, 21)"
      ]
     },
     "execution_count": 19,
     "metadata": {},
     "output_type": "execute_result"
    }
   ],
   "source": [
    "X.shape"
   ]
  },
  {
   "cell_type": "code",
   "execution_count": null,
   "id": "e39e506f",
   "metadata": {},
   "outputs": [],
   "source": [
    "y.shape"
   ]
  },
  {
   "cell_type": "code",
   "execution_count": null,
   "id": "07296355",
   "metadata": {},
   "outputs": [],
   "source": [
    "def hypothesis(X, theta):\n",
    "    return np.dot(X, theta)\n",
    "\n",
    "def error(X, y, theta):\n",
    "    y_ = hypothesis(X, theta)\n",
    "    \n",
    "    error = 0\n",
    "    \n",
    "    error = np.sum((y_ - y)**2)\n",
    "    return error/X.shape[0]\n",
    "\n",
    "def gradient(X, y, theta):\n",
    "    y_ = hypothesis(X, theta)\n",
    "    \n",
    "    m, n = X.shape\n",
    "    \n",
    "    grad = np.dot(X.T, (y_ - y))\n",
    "    return grad/m\n",
    "\n",
    "def grad_desc(X, y, lr=0.01, max_itr=300):\n",
    "    n = X.shape[1]\n",
    "    theta = np.zeros((n,))\n",
    "    error_list = []\n",
    "    \n",
    "    for i in range(max_itr):\n",
    "        grad = gradient(X, y, theta)\n",
    "        \n",
    "        e = error(X,y, theta)\n",
    "        error_list.append(e)\n",
    "        \n",
    "        theta = theta - lr*grad\n",
    "    return theta, error_list\n",
    "    "
   ]
  },
  {
   "cell_type": "code",
   "execution_count": null,
   "id": "c78676ef",
   "metadata": {},
   "outputs": [],
   "source": [
    "theta, errList = grad_desc(X, y)"
   ]
  },
  {
   "cell_type": "code",
   "execution_count": null,
   "id": "129ba4a6",
   "metadata": {},
   "outputs": [],
   "source": [
    "print(theta)"
   ]
  }
 ],
 "metadata": {
  "kernelspec": {
   "display_name": "Python 3 (ipykernel)",
   "language": "python",
   "name": "python3"
  },
  "language_info": {
   "codemirror_mode": {
    "name": "ipython",
    "version": 3
   },
   "file_extension": ".py",
   "mimetype": "text/x-python",
   "name": "python",
   "nbconvert_exporter": "python",
   "pygments_lexer": "ipython3",
   "version": "3.9.2"
  }
 },
 "nbformat": 4,
 "nbformat_minor": 5
}
